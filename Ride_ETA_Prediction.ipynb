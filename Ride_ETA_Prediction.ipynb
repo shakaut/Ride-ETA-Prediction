{
 "cells": [
  {
   "cell_type": "markdown",
   "metadata": {
    "id": "LtARjs7nI9y1"
   },
   "source": [
    "**Step 1: Define the problem**\n",
    "\n",
    "Pathao/Foodpanda needs to tell a customer: \"Your ride will arrive in X minutes\"\n",
    "\n",
    "We'll predict ETA using:\n",
    "* Distance (km)\n",
    "* Traffic level (low/medium/high)\n",
    "* Time of day (morning/noon/evening/night)\n",
    "* Weather (Clear/Rainy)\n",
    "\n"
   ]
  },
  {
   "cell_type": "markdown",
   "metadata": {
    "id": "5RgIXkZOLHzq"
   },
   "source": [
    "**Step 2: Create a Mock Dataset**\n",
    "\n",
    "We'll use dummy but realistic data for learning"
   ]
  },
  {
   "cell_type": "markdown",
   "metadata": {
    "id": "vg0JNA58LhMT"
   },
   "source": [
    "**Step 3: Preprocess**\n",
    "\n",
    "* Encode categorical variables (Traffic, TimeOfDay, Weather) by OneHotEncoding\n",
    "* Normalize Distance if needed\n",
    "* Split into train/test (80/20)"
   ]
  },
  {
   "cell_type": "markdown",
   "metadata": {
    "id": "ZFUt1X-bMCkB"
   },
   "source": [
    "**Step 4: Train the Model**\n",
    "\n",
    "* Use Linear Regression\n",
    "* Train the model to predict ETA\n",
    "* Evaluate with Root Mean Squared Error (RMSE)"
   ]
  },
  {
   "cell_type": "markdown",
   "metadata": {
    "id": "t1uWwGE8Me2a"
   },
   "source": [
    "**Step 5: Save Model & Encoder**\n"
   ]
  },
  {
   "cell_type": "markdown",
   "metadata": {
    "id": "6IQhHee-Mmna"
   },
   "source": [
    "**Step 6: Deploy on Streamlit Cloud**"
   ]
  },
  {
   "cell_type": "markdown",
   "metadata": {
    "id": "CNnI1incQUj9"
   },
   "source": [
    "**1. Setup and Libraries**"
   ]
  },
  {
   "cell_type": "code",
   "execution_count": 25,
   "metadata": {
    "id": "zYU2BdwzIVJT"
   },
   "outputs": [],
   "source": [
    "# !pip install pandas scikit-learn joblib"
   ]
  },
  {
   "cell_type": "code",
   "execution_count": 26,
   "metadata": {
    "id": "SJh3RwqaPeBU"
   },
   "outputs": [],
   "source": [
    "import joblib\n",
    "import pandas as pd\n",
    "import numpy as np\n",
    "import random\n",
    "from sklearn.model_selection import train_test_split\n",
    "from sklearn.preprocessing import OneHotEncoder\n",
    "from sklearn.linear_model import LinearRegression\n",
    "from sklearn.metrics import mean_squared_error"
   ]
  },
  {
   "cell_type": "markdown",
   "metadata": {
    "id": "apQ6CUjGQlTk"
   },
   "source": [
    "**2. Create Ride Data**"
   ]
  },
  {
   "cell_type": "code",
   "execution_count": 27,
   "metadata": {
    "colab": {
     "base_uri": "https://localhost:8080/",
     "height": 206
    },
    "id": "7Runx0hIQEjS",
    "outputId": "8a069df9-7040-46e9-d83d-35df34179690"
   },
   "outputs": [
    {
     "data": {
      "text/html": [
       "<div>\n",
       "<style scoped>\n",
       "    .dataframe tbody tr th:only-of-type {\n",
       "        vertical-align: middle;\n",
       "    }\n",
       "\n",
       "    .dataframe tbody tr th {\n",
       "        vertical-align: top;\n",
       "    }\n",
       "\n",
       "    .dataframe thead th {\n",
       "        text-align: right;\n",
       "    }\n",
       "</style>\n",
       "<table border=\"1\" class=\"dataframe\">\n",
       "  <thead>\n",
       "    <tr style=\"text-align: right;\">\n",
       "      <th></th>\n",
       "      <th>Distance_km</th>\n",
       "      <th>Traffic</th>\n",
       "      <th>TimeOfDay</th>\n",
       "      <th>Weather</th>\n",
       "      <th>ETA_min</th>\n",
       "    </tr>\n",
       "  </thead>\n",
       "  <tbody>\n",
       "    <tr>\n",
       "      <th>0</th>\n",
       "      <td>10.10</td>\n",
       "      <td>medium</td>\n",
       "      <td>evening</td>\n",
       "      <td>rainy</td>\n",
       "      <td>70.9</td>\n",
       "    </tr>\n",
       "    <tr>\n",
       "      <th>1</th>\n",
       "      <td>2.39</td>\n",
       "      <td>low</td>\n",
       "      <td>night</td>\n",
       "      <td>rainy</td>\n",
       "      <td>11.2</td>\n",
       "    </tr>\n",
       "    <tr>\n",
       "      <th>2</th>\n",
       "      <td>4.42</td>\n",
       "      <td>low</td>\n",
       "      <td>morning</td>\n",
       "      <td>rainy</td>\n",
       "      <td>24.8</td>\n",
       "    </tr>\n",
       "    <tr>\n",
       "      <th>3</th>\n",
       "      <td>8.01</td>\n",
       "      <td>low</td>\n",
       "      <td>evening</td>\n",
       "      <td>clear</td>\n",
       "      <td>34.6</td>\n",
       "    </tr>\n",
       "    <tr>\n",
       "      <th>4</th>\n",
       "      <td>2.97</td>\n",
       "      <td>high</td>\n",
       "      <td>night</td>\n",
       "      <td>clear</td>\n",
       "      <td>16.0</td>\n",
       "    </tr>\n",
       "  </tbody>\n",
       "</table>\n",
       "</div>"
      ],
      "text/plain": [
       "   Distance_km Traffic TimeOfDay Weather  ETA_min\n",
       "0        10.10  medium   evening   rainy     70.9\n",
       "1         2.39     low     night   rainy     11.2\n",
       "2         4.42     low   morning   rainy     24.8\n",
       "3         8.01     low   evening   clear     34.6\n",
       "4         2.97    high     night   clear     16.0"
      ]
     },
     "execution_count": 27,
     "metadata": {},
     "output_type": "execute_result"
    }
   ],
   "source": [
    "random.seed(42)\n",
    "\n",
    "def generate_data(n=1000):\n",
    "  distances = np.round(np.random.uniform(1,15, n),2)  # 1 to 15 km\n",
    "  traffic_levels = random.choices(['low','medium','high'], k=n)\n",
    "  times_of_day = random.choices(['morning','noon','evening','night'], k=n)\n",
    "  weather_conditions = random.choices(['clear','rainy'], k=n)\n",
    "\n",
    "  eta = []\n",
    "  for dist, traffic, tod, weather in zip(distances,traffic_levels,times_of_day,weather_conditions):\n",
    "    base_time = dist * 3  # base 3 mins per km\n",
    "    if traffic == 'low': base_time *= 1.2\n",
    "    if traffic == 'medium': base_time *= 1.5\n",
    "    if traffic == 'high': base_time *=1.8\n",
    "    if weather == 'rainy': base_time *= 1.3\n",
    "    if tod in ['morning','evening']: base_time *=1.2\n",
    "    \n",
    "    # Minimum realistic time (cannot be faster than 40 km/h)\n",
    "    min_time = dist * 1.5  # 40 km/h = 1.5 min per km\n",
    "    final_time = max(base_time, min_time)\n",
    "    eta.append(round(final_time, 1))\n",
    "\n",
    "  df = pd.DataFrame({\n",
    "      'Distance_km':distances,\n",
    "      'Traffic': traffic_levels,\n",
    "      'TimeOfDay': times_of_day,\n",
    "      'Weather': weather_conditions,\n",
    "      'ETA_min': eta\n",
    "  })\n",
    "  return df\n",
    "\n",
    "df = generate_data(1500)\n",
    "\n",
    "df.head()"
   ]
  },
  {
   "cell_type": "markdown",
   "metadata": {
    "id": "DsNUuDvzJOWt"
   },
   "source": [
    "**3. Preprocessing**"
   ]
  },
  {
   "cell_type": "code",
   "execution_count": 28,
   "metadata": {
    "id": "dpRJDpSfJM_-"
   },
   "outputs": [],
   "source": [
    "# Separate features and target\n",
    "\n",
    "x = df[['Distance_km', 'Traffic', 'TimeOfDay', 'Weather']]\n",
    "y = df['ETA_min']\n",
    "\n",
    "# One-hot encoding categorical variables\n",
    "encoder = OneHotEncoder(sparse_output=False)\n",
    "x_encoded = encoder.fit_transform(x[['Traffic','TimeOfDay','Weather']])\n",
    "\n",
    "# Combine with distance\n",
    "x_final = np.hstack([x[['Distance_km']].values, x_encoded])\n",
    "\n",
    "x_train, x_test, y_train, y_test = train_test_split(x_final, y, test_size=0.2, random_state=42)"
   ]
  },
  {
   "cell_type": "markdown",
   "metadata": {
    "id": "51WGOc80jPo2"
   },
   "source": [
    "**4. Train Model**"
   ]
  },
  {
   "cell_type": "code",
   "execution_count": 29,
   "metadata": {
    "colab": {
     "base_uri": "https://localhost:8080/"
    },
    "id": "i9_cXcjueIRF",
    "outputId": "93c3c671-98ef-4c7f-9b1f-2690eae66a54"
   },
   "outputs": [
    {
     "name": "stdout",
     "output_type": "stream",
     "text": [
      "5.330170897625306\n"
     ]
    }
   ],
   "source": [
    "model = LinearRegression(positive=True)\n",
    "model.fit(x_train,y_train)\n",
    "\n",
    "y_pred = model.predict(x_test)\n",
    "y_pred = np.maximum(y_pred, 0)\n",
    "mse = mean_squared_error(y_test, y_pred)\n",
    "rmse = np.sqrt(mse)\n",
    "print(rmse)"
   ]
  },
  {
   "cell_type": "markdown",
   "metadata": {
    "id": "UKIltg5bJtxq"
   },
   "source": [
    "**5. Save Model & Encoder**"
   ]
  },
  {
   "cell_type": "code",
   "execution_count": 30,
   "metadata": {
    "id": "aoLcr6h6Jmdr"
   },
   "outputs": [
    {
     "data": {
      "text/plain": [
       "['encoder.pkl']"
      ]
     },
     "execution_count": 30,
     "metadata": {},
     "output_type": "execute_result"
    }
   ],
   "source": [
    "joblib.dump(model, 'ride_eta_model.pkl')\n",
    "joblib.dump(encoder, \"encoder.pkl\")"
   ]
  },
  {
   "cell_type": "markdown",
   "metadata": {},
   "source": [
    "**6. Streamlit Deploy in streamlit_app.py**"
   ]
  }
 ],
 "metadata": {
  "colab": {
   "provenance": []
  },
  "kernelspec": {
   "display_name": "Python 3",
   "language": "python",
   "name": "python3"
  },
  "language_info": {
   "codemirror_mode": {
    "name": "ipython",
    "version": 3
   },
   "file_extension": ".py",
   "mimetype": "text/x-python",
   "name": "python",
   "nbconvert_exporter": "python",
   "pygments_lexer": "ipython3",
   "version": "3.12.4"
  }
 },
 "nbformat": 4,
 "nbformat_minor": 4
}
